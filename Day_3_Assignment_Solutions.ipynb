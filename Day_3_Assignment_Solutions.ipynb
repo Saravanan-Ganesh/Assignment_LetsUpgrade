{
 "cells": [
  {
   "cell_type": "markdown",
   "metadata": {},
   "source": [
    "# Day 3 Assignment Solutions\n"
   ]
  },
  {
   "cell_type": "code",
   "execution_count": 83,
   "metadata": {},
   "outputs": [
    {
     "name": "stdout",
     "output_type": "stream",
     "text": [
      "[ 2  5  8 11 14 17 20 23 26 29 32 35 38 41 44 47]\n"
     ]
    }
   ],
   "source": [
    "'''Question 1\n",
    "\n",
    "Create a numpy array starting from 2 till 50 with a stepsize of 3.'''\n",
    "                                                                                                      # Answer for Question 1\n",
    "import numpy as np\n",
    "a = np.arange(2,50,3, dtype=None)\n",
    "print(a)                                              "
   ]
  },
  {
   "cell_type": "code",
   "execution_count": 22,
   "metadata": {},
   "outputs": [
    {
     "name": "stdout",
     "output_type": "stream",
     "text": [
      "Enter number of elements for list 1 : 5\n",
      "89\n",
      "75\n",
      "44\n",
      "66\n",
      "12\n",
      "Enter number of elements list 2 : 5\n",
      "12\n",
      "45\n",
      "78\n",
      "36\n",
      "54\n",
      "List 1 [89, 75, 44, 66, 12]\n",
      "List 2 [12, 45, 78, 36, 54]\n",
      "Array 1 [89 75 44 66 12] \n",
      " Array 2 [12 45 78 36 54]\n",
      "Concatenated Array [89 75 44 66 12 12 45 78 36 54]\n",
      "Sorted array [12 12 36 44 45 54 66 75 78 89]\n"
     ]
    }
   ],
   "source": [
    "\"\"\"Questions 2:\n",
    "\n",
    "Accept two lists of 5 elements each from the user.\n",
    "Convert them to numpy arrays. Concatenate these arrays and print it. Also sort these arrays and print it. \"\"\"\n",
    "                                                                                                       # Answer for question 2\n",
    "lst1 = []                                                                                              \n",
    "lst2 = [] \n",
    "\n",
    "a = int(input(\"Enter number of elements for list 1 : \"))  \n",
    "for i in range(0, a): \n",
    "    value1 = int(input())                                  \n",
    "    lst1.append(value1)                               # list 1 creation\n",
    "    \n",
    "b =  int(input(\"Enter number of elements list 2 : \")) \n",
    "for i in range(0, b): \n",
    "    value2 = int(input()) \n",
    "    lst2.append(value2)                               # list 2 creation\n",
    "    \n",
    "print(\"List 1\",lst1)                 \n",
    "print(\"List 2\",lst2) \n",
    "\n",
    "import numpy as np\n",
    "\n",
    "arr1 = np.array(lst1)                               # array 1 creation\n",
    "arr2 = np.array(lst2)                               # array 2 creation\n",
    "print(\"Array 1\", arr1,'\\n',\"Array 2\", arr2)   \n",
    "\n",
    "arr3 = np.concatenate((arr1, arr2))                 # concatination of arrays\n",
    "print(\"Concatenated Array\", arr3)\n",
    "print(\"Sorted array\",np.sort(arr3))                 # sorting the array values"
   ]
  },
  {
   "cell_type": "code",
   "execution_count": 32,
   "metadata": {},
   "outputs": [
    {
     "name": "stdout",
     "output_type": "stream",
     "text": [
      "No. of dimensions:  2\n",
      "Size of array:  9\n"
     ]
    }
   ],
   "source": [
    "\"\"\"Question 3:\n",
    "\n",
    "Write a code snippet to find the dimensions of a ndarray and its size.\"\"\"\n",
    "\n",
    "import numpy as np                                                                                    # Answer for question 3\n",
    "\n",
    "arr = np.array( [[ 1, 2, 3],\n",
    "                 [ 4, 2, 5],\n",
    "                 [9,7,8]] )\n",
    "\n",
    "print(\"No. of dimensions: \", arr.ndim)                        # Dimension of the array \n",
    "print(\"Size of array: \", arr.size)                            # Size of the array"
   ]
  },
  {
   "cell_type": "code",
   "execution_count": 63,
   "metadata": {},
   "outputs": [
    {
     "name": "stdout",
     "output_type": "stream",
     "text": [
      "[1 2 3 4 5 6]\n",
      "Dimension is :  1\n",
      "Dimensions are converted using np.newaxis\n",
      "Dimension is (Column vector) :  2\n",
      "Dimension is (Row vector) :  2\n",
      "[9 8 7 6 5]\n",
      "Dimensions is :  1\n",
      "Dimensions converted using np.expand_dims\n",
      "Dimension is (Column vector) :  2\n",
      "Dimension is (Row Vector) :  2\n"
     ]
    }
   ],
   "source": [
    "\"\"\"Questions 4:\n",
    "\n",
    "How to convert a 1D array into a 2D array? Demonstrate with the help of a code snippet\n",
    "Hint: np.newaxis, np.expand_dims\"\"\"\n",
    "                                                                                                      # Answer for Question 4\n",
    "# Solution\n",
    "#-------------------------------------------------------------------------------------------------------------------------------\n",
    "#  Converting 1D array to 2D array is done by using \"np.newaixs\" - which is used to increase the dimension\n",
    "#  of the existing array by one more dimension, when used once. \"1D array will become 2D array\"\n",
    "#  We can also expand our array by using \"numpy.expand_dims(a, axis)\" - which is Used to expand the shape of an array.\n",
    "#-------------------------------------------------------------------------------------------------------------------------------\n",
    "import numpy as np\n",
    "\n",
    "arr = np.array([ 1, 2, 3, 4, 5, 6])\n",
    "print(arr)\n",
    "print(\"Dimension is : \", arr.ndim)\n",
    "print(\"Dimensions are converted using np.newaxis\")\n",
    "arr1 = arr[:, np.newaxis]                               # Converting 1D array to 2D array using \"np.newaxis\"    # column vector\n",
    "arr2 = arr[np.newaxis, :]                                                                                       # row vector\n",
    "#print(\"Column vector : \",arr1)\n",
    "#print(\"Row Vector : \",arr2)\n",
    "print(\"Dimension is (Column vector) : \", arr1.ndim)\n",
    "print(\"Dimension is (Row vector) : \", arr2.ndim)\n",
    "\n",
    "\n",
    "# np.expand_dims - is similar np.newaxis, which can also be used to insert one dimension to an arrary\n",
    "\n",
    "arr3 = np.array([9, 8, 7, 6, 5])\n",
    "print(arr3)\n",
    "print(\"Dimensions is : \", arr3.ndim)\n",
    "arr4 = np.expand_dims(arr3, 1) \n",
    "arr5 = np.expand_dims(arr3, 0)  \n",
    "print(\"Dimensions converted using np.expand_dims\")\n",
    "print(\"Dimension is (Column vector) : \" , arr4.ndim)\n",
    "print(\"Dimension is (Row Vector) : \", arr5.ndim)"
   ]
  },
  {
   "cell_type": "code",
   "execution_count": 82,
   "metadata": {},
   "outputs": [
    {
     "name": "stdout",
     "output_type": "stream",
     "text": [
      "Vertical stack [[ 1  4  9 16 25 36 49 64 81]\n",
      " [81 64 49 36 25 16  9  4  1]]\n",
      "Horizontal Stack [ 1  4  9 16 25 36 49 64 81 81 64 49 36 25 16  9  4  1]\n"
     ]
    }
   ],
   "source": [
    "\"\"\"Questions 5:\n",
    "\n",
    "Consider two square numpy arrays. Stack them vertically and horizontally.\n",
    "Hint: Use vstack(), hstack()\"\"\"\n",
    "                                                                                                      # Answer for Question 5\n",
    "import numpy as np\n",
    "\n",
    "u = np.square([1,2,3,4,5,6,7,8,9])                                  # Squaring the array 1\n",
    "v = np.square([9,8,7,6,5,4,3,2,1])                                  # Squaring the array 2                  \n",
    "w = np.vstack((u,v))                                                # Vertically Stacked \n",
    "print(\"Vertical stack\",w)\n",
    "x = np.hstack((u,v))                                                # Horizontally stacked\n",
    "print(\"Horizontal Stack\",x)                                                            "
   ]
  },
  {
   "cell_type": "code",
   "execution_count": 78,
   "metadata": {},
   "outputs": [
    {
     "name": "stdout",
     "output_type": "stream",
     "text": [
      "(array([0, 1, 2, 3, 4, 5, 6, 7, 8, 9]), array([1, 1, 1, 1, 1, 2, 2, 2, 1, 1], dtype=int64))\n",
      "(array(['a', 'b', 'c', 'd', 'z'], dtype='<U1'), array([2, 1, 2, 1, 1], dtype=int64))\n"
     ]
    }
   ],
   "source": [
    "\"\"\"Questions 6:\n",
    "\n",
    "How to get unique items and counts of unique items?\"\"\"\n",
    "                                                                                                        # Answer for Question 6\n",
    "import numpy as np                                                       \n",
    "\n",
    "z = np.array([1, 2, 3, 4, 5, 6, 7, 8, 9, 7, 5, 6, 0])\n",
    "#print(np.unique(z))                                                  # printing unique items\n",
    "print(np.unique(z, return_counts=True))                               # printing count of unique items\n",
    "\n",
    "x= np.array([\"a\",\"b\", \"c\", \"d\", \"a\", \"z\",\"c\"])\n",
    "print(np.unique(x, return_counts=True))                     \n"
   ]
  },
  {
   "cell_type": "code",
   "execution_count": null,
   "metadata": {},
   "outputs": [],
   "source": []
  }
 ],
 "metadata": {
  "kernelspec": {
   "display_name": "Python 3",
   "language": "python",
   "name": "python3"
  },
  "language_info": {
   "codemirror_mode": {
    "name": "ipython",
    "version": 3
   },
   "file_extension": ".py",
   "mimetype": "text/x-python",
   "name": "python",
   "nbconvert_exporter": "python",
   "pygments_lexer": "ipython3",
   "version": "3.7.4"
  }
 },
 "nbformat": 4,
 "nbformat_minor": 2
}
