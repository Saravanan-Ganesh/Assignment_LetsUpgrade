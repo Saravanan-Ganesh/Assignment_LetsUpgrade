{
 "cells": [
  {
   "cell_type": "markdown",
   "metadata": {},
   "source": [
    "# Day 1 - Assignment Solutions"
   ]
  },
  {
   "cell_type": "code",
   "execution_count": null,
   "metadata": {},
   "outputs": [],
   "source": [
    "\"\"\"Questions 1:\n",
    "\n",
    "Given the following jumbled word, OBANWRI guess the correct English word.\n",
    "\n",
    "A. RANIBOW\n",
    "B. RAINBOW\n",
    "C. BOWRANI\n",
    "D. ROBWANI \"\"\"\n",
    "\n",
    "# solution\n",
    "\n",
    "B.RAINBOW                                                                                               # Answer for question 1"
   ]
  },
  {
   "cell_type": "code",
   "execution_count": 28,
   "metadata": {},
   "outputs": [
    {
     "name": "stdout",
     "output_type": "stream",
     "text": [
      "LETS UPGRADE\n"
     ]
    }
   ],
   "source": [
    "\"\"\"Questions 2:\n",
    "    \n",
    "Write a program which prints “LETS UPGRADE”. (Please note that you have to\n",
    "print in ALL CAPS as given)\"\"\"\n",
    "\n",
    "# solution\n",
    "\n",
    "a = \"lets upgrade\"\n",
    "print(a.upper())                                                                                       # Answer for question 2"
   ]
  },
  {
   "cell_type": "code",
   "execution_count": 27,
   "metadata": {},
   "outputs": [
    {
     "name": "stdout",
     "output_type": "stream",
     "text": [
      "19\n",
      "95\n",
      "Profit\n"
     ]
    }
   ],
   "source": [
    "\"\"\"Questions 3:\n",
    "\n",
    "Write a program that takes cost price and selling price as input and displays whether the transaction is a\n",
    "Profit or a Loss or Neither.\"\"\"\n",
    "\n",
    "# solution\n",
    "\n",
    "cp = int(input()) \n",
    "sp = int(input())\n",
    "if(sp>cp):\n",
    "    print('Profit')\n",
    "elif(sp<cp):\n",
    "    print(\"Loss\")\n",
    "else:\n",
    "    print(\"Neither\")                                                                                    # Answer for question 3 "
   ]
  },
  {
   "cell_type": "code",
   "execution_count": 20,
   "metadata": {},
   "outputs": [
    {
     "name": "stdout",
     "output_type": "stream",
     "text": [
      "35\n",
      "2800\n"
     ]
    }
   ],
   "source": [
    "\"\"\"Questions 4:\n",
    "\n",
    "Write a program that takes an amount in Indian Rupees as input. You need to find its equivalent\n",
    "in Euro and display it. Assume 1 Euro equals Rs. 80.\"\"\"\n",
    "\n",
    "# Solution\n",
    "\n",
    "amount = int(input())\n",
    "print(amount * 80)                                                                                      # Answer for question 4"
   ]
  },
  {
   "cell_type": "code",
   "execution_count": null,
   "metadata": {},
   "outputs": [],
   "source": []
  }
 ],
 "metadata": {
  "kernelspec": {
   "display_name": "Python 3",
   "language": "python",
   "name": "python3"
  },
  "language_info": {
   "codemirror_mode": {
    "name": "ipython",
    "version": 3
   },
   "file_extension": ".py",
   "mimetype": "text/x-python",
   "name": "python",
   "nbconvert_exporter": "python",
   "pygments_lexer": "ipython3",
   "version": "3.7.4"
  }
 },
 "nbformat": 4,
 "nbformat_minor": 2
}
