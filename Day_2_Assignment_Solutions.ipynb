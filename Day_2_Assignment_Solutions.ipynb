{
 "cells": [
  {
   "cell_type": "markdown",
   "metadata": {},
   "source": [
    "# Day 2 Assignment Solutions\n"
   ]
  },
  {
   "cell_type": "code",
   "execution_count": 10,
   "metadata": {},
   "outputs": [
    {
     "name": "stdout",
     "output_type": "stream",
     "text": [
      "Enter total count:10\n",
      "Values9\n",
      "Values8\n",
      "Values7\n",
      "Values6\n",
      "Values5\n",
      "Values4\n",
      "Values3\n",
      "Values2\n",
      "Values1\n",
      "Values0\n",
      "Total Values [9, 8, 7, 6, 5, 4, 3, 2, 1, 0]\n",
      "Even Values  [8, 6, 4, 2, 0]\n"
     ]
    }
   ],
   "source": [
    "'''Questions 1: \n",
    "\n",
    "Create an empty list. Accept 10 numbers from the user and append to it the list if it is an even number.'''\n",
    "\n",
    "# Solution\n",
    "\n",
    "l=[]\n",
    "n=int(input(\"Enter total count:\"))\n",
    "for i in range(1,n+1):\n",
    "    b=int(input(\"Values \"))\n",
    "    l.append(b)\n",
    "print(\"Total Values\",l)\n",
    "even=[]\n",
    "for j in l:\n",
    "    if(j%2==0):\n",
    "        even.append(j)\n",
    "print(\"Even Values \",even)                                                                              # Answer for question 1"
   ]
  },
  {
   "cell_type": "code",
   "execution_count": 19,
   "metadata": {},
   "outputs": [
    {
     "name": "stdout",
     "output_type": "stream",
     "text": [
      "squares [1, 4, 9, 16, 25, 36, 49, 64, 81]\n"
     ]
    }
   ],
   "source": [
    "'''Questions 2: \n",
    "\n",
    "Create a notebook on LIST COMPREHENSION. This exercise is to put you in a Self learning mode'''\n",
    "\n",
    "# Solution\n",
    "\n",
    "'''List Comprehension is a way to create new lists. \n",
    "syntax :  \n",
    "output_list = [expression for item in input_list if (condition)]\n",
    "'''\n",
    "\n",
    "# Example 1 ===>\n",
    "l = [i**2 for i in range(1, 10)] \n",
    "print(\"squares\",l)                                                                                      # Answer for question 2"
   ]
  },
  {
   "cell_type": "code",
   "execution_count": 17,
   "metadata": {},
   "outputs": [
    {
     "name": "stdout",
     "output_type": "stream",
     "text": [
      "[10, 50, 240, 380, 710, 4]\n"
     ]
    }
   ],
   "source": [
    "# Example 2 ===>\n",
    "input_list = [10,21,37,50,99,11,240,380,710,4]\n",
    "even = [number for number in input_list if number % 2 == 0]\n",
    "print(even)                                                                                             # Answer for question 2"
   ]
  },
  {
   "cell_type": "code",
   "execution_count": 27,
   "metadata": {},
   "outputs": [
    {
     "name": "stdout",
     "output_type": "stream",
     "text": [
      "8\n",
      "{1: 1, 2: 4, 3: 9, 4: 16, 5: 25, 6: 36, 7: 49, 8: 64}\n"
     ]
    }
   ],
   "source": [
    "'''Questions 3: \n",
    "\n",
    "You have seen in the videos how powerful dictionary data structure is.\n",
    "In this assignment, given a number n, you have to write a program that generates a dictionary d which\n",
    "contains (i, i*i), where i is from 1 to n (both included).\n",
    "Then you have to just print this dictionary d. '''\n",
    "\n",
    "a = int(input())\n",
    "x = {i:i ** 2 for i in range(1,a+1) } \n",
    "print(x)                                                                                                # Answer for Question 3"
   ]
  },
  {
   "cell_type": "code",
   "execution_count": 5,
   "metadata": {},
   "outputs": [
    {
     "name": "stdout",
     "output_type": "stream",
     "text": [
      "4\n",
      "UP 5\n",
      "DOWN 3\n",
      "LEFT 3\n",
      "RIGHT 2\n",
      "2\n"
     ]
    }
   ],
   "source": [
    "\"\"\"Question 4:\n",
    "\n",
    "There is a robot which wants to go the charging point to charge itself.\n",
    "The robot moves in a 2-D plane from the original point (0,0). The robot can\n",
    "move toward UP, DOWN, LEFT and RIGHT with given steps.\n",
    "The trace of robot movement is shown as the following:\n",
    "UP 5\n",
    "DOWN 3\n",
    "LEFT 3\n",
    "RIGHT 2\n",
    "Then, the output of the program should be:2 \"\"\"\n",
    "\n",
    "# Solution\n",
    "\n",
    "import math\n",
    "\n",
    "pos = {\"x\":0,\"y\":0}                          # origin position\n",
    "n = int(input())                             # getting movement from user\n",
    "for i in range (n):\n",
    "    move =  input().split(\" \")              \n",
    "    \n",
    "    if move[0].lower() == \"up\":              # Comparison of directions\n",
    "        pos[\"y\"] += int(move[1])             # Increment/Decrement of co-ordinate vales \n",
    "    \n",
    "    elif move[0].lower() == \"down\":\n",
    "        pos[\"y\"] -= int(move[1])\n",
    "    \n",
    "    elif move[0].lower() == \"left\":\n",
    "        pos[\"x\"] -= int(move[1])\n",
    "    \n",
    "    elif move[0].lower() == \"right\":\n",
    "        pos[\"x\"] += int(move[1])\n",
    "\n",
    "print(int(round(math.sqrt(pos[\"x\"]**2 + pos[\"y\"]**2)))) # Distance from the origin                      # Answer for question 4"
   ]
  },
  {
   "cell_type": "markdown",
   "metadata": {},
   "source": [
    "                                                                                                    Done by Saravanan Ganesh"
   ]
  }
 ],
 "metadata": {
  "kernelspec": {
   "display_name": "Python 3",
   "language": "python",
   "name": "python3"
  },
  "language_info": {
   "codemirror_mode": {
    "name": "ipython",
    "version": 3
   },
   "file_extension": ".py",
   "mimetype": "text/x-python",
   "name": "python",
   "nbconvert_exporter": "python",
   "pygments_lexer": "ipython3",
   "version": "3.7.4"
  }
 },
 "nbformat": 4,
 "nbformat_minor": 2
}
